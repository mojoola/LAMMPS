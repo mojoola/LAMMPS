{
  "nbformat": 4,
  "nbformat_minor": 0,
  "metadata": {
    "colab": {
      "name": "Research Molecules + 2 Tanks.ipynb",
      "provenance": [],
      "collapsed_sections": []
    },
    "kernelspec": {
      "display_name": "Python 3",
      "language": "python",
      "name": "python3"
    },
    "language_info": {
      "codemirror_mode": {
        "name": "ipython",
        "version": 3
      },
      "file_extension": ".py",
      "mimetype": "text/x-python",
      "name": "python",
      "nbconvert_exporter": "python",
      "pygments_lexer": "ipython3",
      "version": "3.7.6"
    }
  },
  "cells": [
    {
      "cell_type": "markdown",
      "metadata": {
        "id": "pIuPV0N535zJ"
      },
      "source": [
        "### Generating LAMMPS Input File for a Hydrocarbon Mixture in 2 Tanks Separated by a Nanotube"
      ]
    },
    {
      "cell_type": "markdown",
      "metadata": {
        "id": "WsqvLooN35zK"
      },
      "source": [
        "The notebook generates a LAMMPS input file for a hydrocarbon mixture contained in 2 tanks separated by a nonotube of length 'length' and diameter 'dia'. The inputs accepted by this notebook include:\n",
        "* `num_mols` = the total number of molecules in each tank\n",
        "* `dia` = the diameter (angstroms) of the nanotube connecting both tanks\n",
        "* `length` = the length (angstroms) of the nanotube connecting both tanks\n",
        "* `filepath` = the directory of the folder containing the necessary input files\n",
        "* `wall_filename` = the directory of the `csv` file containing the atom coordinates of the tanks\n",
        "* `angles_filename` = the directory of the `csv` file containing the angles info of the pseudo-atoms in the hydrocarbon mixture\n",
        "* `bonds_filename` = the directory of the `csv` file containing the bonds info of the the pseudo-atoms in the hydrocarbon mixture\n",
        "* `dihedrals_filename` = the directory of the `csv` file containing the dihedrals info of the pseudo-atoms in the hydrocarbon mixture\n",
        "* `mols_filename` = the directory of the `csv` file containing the molecules info of the pseudo-atoms in the hydrocarbon mixture\n",
        "* `out_filename` = the directory of the output LAMMPS file\n",
        "* `num_mols` = a list containing the last atom_id of each component in the hydrocarbon mixture, as given in `mols_filename`"
      ]
    },
    {
      "cell_type": "code",
      "metadata": {
        "id": "9mYK1er6VgQ5"
      },
      "source": [
        "import numpy as np\n",
        "import matplotlib.pyplot as plt\n",
        "import pandas as pd\n",
        "import os, sys\n",
        "import random\n",
        "from pathlib import Path\n",
        "from mpl_toolkits.mplot3d import Axes3D"
      ],
      "execution_count": null,
      "outputs": []
    },
    {
      "cell_type": "code",
      "metadata": {
        "id": "R5yTic3g35zL"
      },
      "source": [
        "num_mols = \n",
        "dia = \n",
        "length = "
      ],
      "execution_count": null,
      "outputs": []
    },
    {
      "cell_type": "code",
      "metadata": {
        "id": "QjHDvYK8PMvb"
      },
      "source": [
        "filepath = Path()\n",
        "wall_filename = filepath/f'60x50nm_mod_with_{dia}nm_hole.csv'\n",
        "angles_filename = filepath/f'angles_{num_mols}x2.csv'\n",
        "bonds_filename = filepath/f'bonds_{num_mols}x2.csv'\n",
        "dihedrals_filename = filepath/f'dihedrals_{num_mols}x2.csv'\n",
        "mols_filename = filepath/f'mols_{num_mols}x2.csv'\n",
        "out_filename = filepath/f'{num_mols}x2 mols + dia_{dia}x{length}nm + 2_Tanks LAMMPS_Datafile.txt'"
      ],
      "execution_count": null,
      "outputs": []
    },
    {
      "cell_type": "code",
      "metadata": {
        "id": "p-9GDdtf35zM"
      },
      "source": [
        "num_dec = 4\n",
        "\n",
        "# atom_count is an empty list\n",
        "atom_count = []\n",
        "\n",
        "num_mols = []"
      ],
      "execution_count": null,
      "outputs": []
    },
    {
      "cell_type": "code",
      "metadata": {
        "id": "jWP88KRQm40u"
      },
      "source": [
        "# atom_type 1 = C\n",
        "wall_temp = pd.read_csv(wall_filename)\n",
        "wall = pd.DataFrame(columns = ['atom_id', 'molecule_id', 'atom_type', 'charge', 'x_pos', 'y_pos', 'z_pos'])\n",
        "\n",
        "wall.x_pos, wall.y_pos, wall.z_pos = round(wall_temp.x, num_dec), round(wall_temp.y, num_dec), round(wall_temp.z, num_dec)\n",
        "\n",
        "a_id = range(1, wall.shape[0]+1)\n",
        "wall.atom_id = a_id\n",
        "wall.molecule_id = a_id\n",
        "wall = wall.assign(atom_type = 1)\n",
        "wall = wall.assign(charge = 0)\n",
        "\n",
        "del wall_temp\n",
        "\n",
        "atom_count.append(wall.shape[0])\n",
        "atom_count.extend(num_mols)\n",
        "\n",
        "wall = wall.astype({'atom_id': 'int64', 'molecule_id': 'int64', 'atom_type': 'int32', 'charge': 'int32'})\n",
        "\n",
        "wall"
      ],
      "execution_count": null,
      "outputs": []
    },
    {
      "cell_type": "code",
      "metadata": {
        "id": "OtFxJIue35zM"
      },
      "source": [
        "xlo, xhi = wall.x_pos.min(), wall.x_pos.max()\n",
        "ylo, yhi = wall.y_pos.min()-5, wall.y_pos.max()+5\n",
        "zlo, zhi = wall.z_pos.min(), wall.z_pos.max()"
      ],
      "execution_count": null,
      "outputs": []
    },
    {
      "cell_type": "code",
      "metadata": {
        "id": "hFJAnK3t35zN"
      },
      "source": [
        "mols = pd.read_csv(mols_filename)\n",
        "mols = mols.loc[:, ~mols.columns.str.contains('^Unnamed')]\n",
        "\n",
        "mols.reset_index(drop = True)\n",
        "\n",
        "mols = mols.astype({'atom_id': 'int64', 'molecule_id': 'int64', 'atom_type': 'int32', 'charge': 'int32'})\n",
        "\n",
        "mols.atom_id, mols.molecule_id = mols.atom_id + wall.atom_id.max(), mols.molecule_id + wall.molecule_id.max()\n",
        "\n",
        "mols"
      ],
      "execution_count": null,
      "outputs": []
    },
    {
      "cell_type": "code",
      "metadata": {
        "id": "rbEcAfFP35zN"
      },
      "source": [
        "C = pd.concat([wall, mols]).reset_index(drop = True)\n",
        "\n",
        "del wall, mols\n",
        "\n",
        "C"
      ],
      "execution_count": null,
      "outputs": []
    },
    {
      "cell_type": "code",
      "metadata": {
        "id": "jWt-LOFj35zN"
      },
      "source": [
        "C_bonds = pd.read_csv(bonds_filename)\n",
        "C_bonds = C_bonds.loc[:, ~C_bonds.columns.str.contains('^Unnamed')]\n",
        "\n",
        "C_bonds.reset_index(drop = True)\n",
        "\n",
        "C_bonds.atom_id1, C_bonds.atom_id2 = C_bonds.atom_id1 + atom_count[0], C_bonds.atom_id2 + atom_count[0]\n",
        "\n",
        "C_bonds"
      ],
      "execution_count": null,
      "outputs": []
    },
    {
      "cell_type": "code",
      "metadata": {
        "id": "BxfkunzN35zO"
      },
      "source": [
        "C_angles = pd.read_csv(angles_filename)\n",
        "C_angles = C_angles.loc[:, ~C_angles.columns.str.contains('^Unnamed')]\n",
        "\n",
        "C_angles.reset_index(drop = True)\n",
        "\n",
        "C_angles.atom_id1, C_angles.atom_id2, C_angles.atom_id3 = C_angles.atom_id1 + atom_count[0], C_angles.atom_id2 + atom_count[0], C_angles.atom_id3 + atom_count[0]\n",
        "\n",
        "C_angles"
      ],
      "execution_count": null,
      "outputs": []
    },
    {
      "cell_type": "code",
      "metadata": {
        "id": "fnWfroPW35zO"
      },
      "source": [
        "C_dihedrals = pd.read_csv(dihedrals_filename)\n",
        "C_dihedrals = C_dihedrals.loc[:, ~C_dihedrals.columns.str.contains('^Unnamed')]\n",
        "\n",
        "C_dihedrals.reset_index(drop = True)\n",
        "\n",
        "C_dihedrals.atom_id1, C_dihedrals.atom_id2 = C_dihedrals.atom_id1 + atom_count[0], C_dihedrals.atom_id2 + atom_count[0] \n",
        "C_dihedrals.atom_id3, C_dihedrals.atom_id4 = C_dihedrals.atom_id3 + atom_count[0], C_dihedrals.atom_id4 + atom_count[0]\n",
        "\n",
        "C_dihedrals"
      ],
      "execution_count": null,
      "outputs": []
    },
    {
      "cell_type": "code",
      "metadata": {
        "id": "siYOrNiVy9RZ"
      },
      "source": [
        "new_doc = open(out_filename,'w')\n",
        "\n",
        "new_doc.write(f'LAMMPS data file. Edited by Mojoola. Atom count {np.cumsum(atom_count)}')\n",
        "\n",
        "new_doc.write(f'\\n\\n {C.shape[0]} atoms')\n",
        "new_doc.write(f'\\n {C_bonds.shape[0]} bonds')\n",
        "new_doc.write(f'\\n {C_angles.shape[0]} angles')\n",
        "new_doc.write(f'\\n {C_dihedrals.shape[0]} dihedrals')\n",
        "new_doc.write(f'\\n 0 impropers')\n",
        "\n",
        "new_doc.write(f'\\n\\n {len(C.atom_type.unique())} atom types')\n",
        "new_doc.write(f'\\n {len(C_bonds.bond_type.unique())} bond types')\n",
        "new_doc.write(f'\\n {len(C_angles.angle_type.unique())} angle types')\n",
        "new_doc.write(f'\\n {len(C_dihedrals.dihedral_type.unique())} dihedral types')\n",
        "new_doc.write(f'\\n 0 improper types')\n",
        "\n",
        "new_doc.write(f'\\n\\n {xlo} {xhi} xlo xhi')\n",
        "new_doc.write(f'\\n {ylo} {yhi} ylo yhi')\n",
        "new_doc.write(f'\\n {zlo} {zhi} zlo zhi')\n",
        "\n",
        "new_doc.write(f'\\n\\n Masses\\n')\n",
        "new_doc.write(f'\\n 1 12.010700')\n",
        "new_doc.write(f'\\n 2 16.043000')\n",
        "new_doc.write(f'\\n 3 15.035000')\n",
        "new_doc.write(f'\\n 4 14.027000')\n",
        "\n",
        "new_doc.write(f'\\n\\n Pair Coeffs\\n')\n",
        "new_doc.write(f'\\n 1 0.00241 3.400')\n",
        "new_doc.write(f'\\n 2 0.01275 3.740')\n",
        "new_doc.write(f'\\n 3 0.00844516 3.7500')\n",
        "new_doc.write(f'\\n 4 0.0039639 3.9500')\n",
        "\n",
        "new_doc.write(f'\\n\\n Bond Coeffs\\n')\n",
        "new_doc.write(f'\\n 1 13.44 1.54')\n",
        "new_doc.write(f'\\n 2 14.35 1.54')\n",
        "new_doc.write(f'\\n 3 15.00 1.54')\n",
        "\n",
        "new_doc.write(f'\\n\\n Angle Coeffs\\n')\n",
        "new_doc.write(f'\\n 1 2.6929 114')\n",
        "\n",
        "new_doc.write(f'\\n\\n Dihedral Coeffs\\n')\n",
        "new_doc.write(f'\\n 1 0.061188 -0.011752 0.13638054 0.0')\n",
        "\n",
        "new_doc.write(f'\\n\\n Atoms\\n\\n')\n",
        "new_doc.write(C.to_string(index = False, header = False, formatters={'atom_id':'{{:<{}}}'.format(C.atom_id.astype(str).str.len().max()).format, \n",
        "                                                                     'molecule_id':'{{:<{}}}'.format(C.molecule_id.astype(str).str.len().max()).format,\n",
        "                                                                     'atom_type':'{{:<{}}}'.format(C.atom_type.astype(str).str.len().max()).format,\n",
        "                                                                     'charge':'{{:<{}}}'.format(C.charge.astype(str).str.len().max()).format,\n",
        "                                                                     'x_pos':'{{:<{}}}'.format(C.x_pos.astype(str).str.len().max()).format,\n",
        "                                                                     'y_pos':'{{:<{}}}'.format(C.y_pos.astype(str).str.len().max()).format,\n",
        "                                                                     'z_pos':'{{:<{}}}'.format(C.z_pos.astype(str).str.len().max()).format}))\n",
        "\n",
        "new_doc.write(f'\\n\\n Bonds\\n\\n')\n",
        "new_doc.write(C_bonds.to_string(index = False, header = False, formatters={'bond_id':'{{:<{}}}'.format(C_bonds.bond_id.astype(str).str.len().max()).format, \n",
        "                                                                           'bond_type':'{{:<{}}}'.format(C_bonds.bond_type.astype(str).str.len().max()).format,\n",
        "                                                                           'atom_id1':'{{:<{}}}'.format(C_bonds.atom_id1.astype(str).str.len().max()).format,\n",
        "                                                                           'atom_id2':'{{:<{}}}'.format(C_bonds.atom_id2.astype(str).str.len().max()).format}))\n",
        "\n",
        "new_doc.write(f'\\n\\n Angles\\n\\n')\n",
        "new_doc.write(C_angles.to_string(index = False, header = False, formatters={'angle_id':'{{:<{}}}'.format(C_angles.angle_id.astype(str).str.len().max()).format, \n",
        "                                                                            'angle_type':'{{:<{}}}'.format(C_angles.angle_type.astype(str).str.len().max()).format,\n",
        "                                                                            'atom_id1':'{{:<{}}}'.format(C_angles.atom_id1.astype(str).str.len().max()).format,\n",
        "                                                                            'atom_id2':'{{:<{}}}'.format(C_angles.atom_id2.astype(str).str.len().max()).format,\n",
        "                                                                            'atom_id3':'{{:<{}}}'.format(C_angles.atom_id3.astype(str).str.len().max()).format}))\n",
        "\n",
        "new_doc.write(f'\\n\\n Dihedrals\\n\\n')\n",
        "new_doc.write(C_dihedrals.to_string(index = False, header = False, formatters={'dihedral_id':'{{:<{}}}'.format(C_dihedrals.dihedral_id.astype(str).str.len().max()).format, \n",
        "                                                                               'dihedral_type':'{{:<{}}}'.format(C_dihedrals.dihedral_type.astype(str).str.len().max()).format,\n",
        "                                                                               'atom_id1':'{{:<{}}}'.format(C_dihedrals.atom_id1.astype(str).str.len().max()).format,\n",
        "                                                                               'atom_id2':'{{:<{}}}'.format(C_dihedrals.atom_id2.astype(str).str.len().max()).format,\n",
        "                                                                               'atom_id3':'{{:<{}}}'.format(C_dihedrals.atom_id3.astype(str).str.len().max()).format,\n",
        "                                                                               'atom_id4':'{{:<{}}}'.format(C_dihedrals.atom_id4.astype(str).str.len().max()).format}))\n",
        "\n",
        "new_doc.close()"
      ],
      "execution_count": null,
      "outputs": []
    },
    {
      "cell_type": "code",
      "metadata": {
        "id": "RuDWZX8NoFBE"
      },
      "source": [
        "z = C.z_pos\n",
        "x = C.x_pos\n",
        "y = C.y_pos\n",
        "\n",
        "ax = plt.axes(projection =\"3d\")\n",
        " \n",
        "# Creating plot\n",
        "ax.scatter3D(x, y, z, color = \"green\")\n",
        "plt.title(\"simple 3D scatter plot\")\n",
        " \n",
        "# show plot\n",
        "plt.show()"
      ],
      "execution_count": null,
      "outputs": []
    },
    {
      "cell_type": "code",
      "metadata": {
        "id": "M9MHlJ1RH1wD"
      },
      "source": [
        "C"
      ],
      "execution_count": null,
      "outputs": []
    },
    {
      "cell_type": "code",
      "metadata": {
        "id": "gPzj7P0S35zS"
      },
      "source": [
        "np.cumsum(atom_count)"
      ],
      "execution_count": null,
      "outputs": []
    }
  ]
}